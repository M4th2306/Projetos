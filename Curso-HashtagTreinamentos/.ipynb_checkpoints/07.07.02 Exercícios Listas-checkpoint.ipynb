{
 "cells": [
  {
   "cell_type": "markdown",
   "metadata": {},
   "source": [
    "# Exercícios\n",
    "\n",
    "## 1. Faturamento do Melhor e do Pior Mês do Ano\n",
    "\n",
    "Qual foi o valor de vendas do melhor mês do Ano?\n",
    "E valor do pior mês do ano?"
   ]
  },
  {
   "cell_type": "code",
   "execution_count": 16,
   "metadata": {},
   "outputs": [
    {
     "name": "stdout",
     "output_type": "stream",
     "text": [
      "49051\n",
      "9650\n"
     ]
    }
   ],
   "source": [
    "meses = ['jan', 'fev', 'mar', 'abr', 'mai', 'jun', 'jul', 'ago', 'set', 'out', 'nov', 'dez']\n",
    "vendas_1sem = [25000, 29000, 22200, 17750, 15870, 19900]\n",
    "vendas_2sem = [19850, 20120, 17540, 15555, 49051, 9650]\n",
    "vendas_1sem.extend(vendas_2sem)\n",
    "maior_valor =max(vendas_1sem)\n",
    "print(maior_valor)\n",
    "\n",
    "print(min(vendas_1sem))"
   ]
  },
  {
   "cell_type": "markdown",
   "metadata": {},
   "source": [
    "## 2. Continuação\n",
    "\n",
    "Agora relacione as duas listas para printar 'O melhor mês do ano foi {} com {} vendas' e o mesmo para o pior mês do ano.\n",
    "\n",
    "Calcule também o faturamento total do Ano e quanto que o melhor mês representou do faturamento total.\n",
    "\n",
    "Obs: Para o faturamento total, pode usar a função sum(lista) que soma todos os itens de uma lista"
   ]
  },
  {
   "cell_type": "code",
   "execution_count": 17,
   "metadata": {},
   "outputs": [
    {
     "name": "stdout",
     "output_type": "stream",
     "text": [
      "O melhor mês do ano foi nov com 49051 vendas\n",
      "O pior mês do ano foi dez com 9650 vendas\n",
      "O faturamento anual foi de 261,486, e o percentual que o maior valor influencia é de 18.8%\n",
      "[25000, 29000, 22200, 17750, 15870, 19900, 19850, 20120, 17540, 15555, 49051, 9650]\n"
     ]
    }
   ],
   "source": [
    "i_maiorvalor= vendas_1sem.index(max(vendas_1sem))\n",
    "i_menorvalor= vendas_1sem.index(min(vendas_1sem))\n",
    "\n",
    "print('O melhor mês do ano foi {} com {} vendas'.format(meses[i_maiorvalor],vendas_1sem[i_maiorvalor]))\n",
    "print('O pior mês do ano foi {} com {} vendas'.format(meses[i_menorvalor],vendas_1sem[i_menorvalor]))\n",
    "\n",
    "faturamento= sum(vendas_1sem)\n",
    "percentual = max(vendas_1sem) / faturamento\n",
    "print('O faturamento anual foi de {:,}, e o percentual que o maior valor influencia é de {:.1%}'.format(faturamento,percentual))\n",
    "print (vendas_1sem)"
   ]
  },
  {
   "cell_type": "markdown",
   "metadata": {},
   "source": [
    "## 3. Crie uma lista com o top 3 valores de vendas do ano (sem fazer \"no olho\")\n",
    "\n",
    "Dica: o método remove retira um item da lista."
   ]
  },
  {
   "cell_type": "code",
   "execution_count": 18,
   "metadata": {},
   "outputs": [
    {
     "name": "stdout",
     "output_type": "stream",
     "text": [
      "[25000, 29000, 22200, 17750, 15870, 19900, 19850, 20120, 17540, 15555, 49051, 9650]\n",
      "[49051, 29000, 25000]\n"
     ]
    }
   ],
   "source": [
    "top3 = []\n",
    "print(vendas_1sem)\n",
    "maior_valor = max(vendas_1sem)\n",
    "top3.append(maior_valor)\n",
    "\n",
    "vendas_1sem.remove(maior_valor)\n",
    "\n",
    "maior_valor = max(vendas_1sem)\n",
    "top3.append(maior_valor)\n",
    "\n",
    "vendas_1sem.remove(maior_valor)\n",
    "\n",
    "maior_valor = max(vendas_1sem)\n",
    "top3.append(maior_valor)\n",
    "print(top3)\n"
   ]
  }
 ],
 "metadata": {
  "kernelspec": {
   "display_name": "Python 3",
   "language": "python",
   "name": "python3"
  },
  "language_info": {
   "codemirror_mode": {
    "name": "ipython",
    "version": 3
   },
   "file_extension": ".py",
   "mimetype": "text/x-python",
   "name": "python",
   "nbconvert_exporter": "python",
   "pygments_lexer": "ipython3",
   "version": "3.8.8"
  },
  "widgets": {
   "application/vnd.jupyter.widget-state+json": {
    "state": {},
    "version_major": 2,
    "version_minor": 0
   }
  }
 },
 "nbformat": 4,
 "nbformat_minor": 4
}
