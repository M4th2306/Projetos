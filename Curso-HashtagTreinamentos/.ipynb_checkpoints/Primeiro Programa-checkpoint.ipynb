{
 "cells": [
  {
   "cell_type": "markdown",
   "id": "6a0bab6c",
   "metadata": {},
   "source": [
    "# - Operações matemáticas\\ prints :"
   ]
  },
  {
   "cell_type": "code",
   "execution_count": 2,
   "id": "7ed3553c",
   "metadata": {},
   "outputs": [
    {
     "name": "stdout",
     "output_type": "stream",
     "text": [
      "um número-\n",
      "12345\n",
      "multiplicação:\n",
      "4\n",
      "subtração:\n",
      "0\n",
      "soma:\n",
      "4\n",
      "potencia:\n",
      "4\n",
      "divisão:\n",
      "1.0\n",
      "resto da divisão:\n",
      "0\n"
     ]
    }
   ],
   "source": [
    "print('um número-')\n",
    "print(12345)\n",
    "print('multiplicação:') # o *símbolo* significa a *operação*.\n",
    "print( 2 * 2 )\n",
    "print('subtração:')\n",
    "print( 2 - 2 )\n",
    "print('soma:')\n",
    "print( 2 + 2 )\n",
    "print('potencia:')\n",
    "print( 2 ** 3 )\n",
    "print('divisão:')\n",
    "print( 2 / 2 )\n",
    "print('resto da divisão:')\n",
    "print( 2 % 2 )\n",
    "\n"
   ]
  },
  {
   "cell_type": "markdown",
   "id": "202c5692",
   "metadata": {},
   "source": [
    "# - Variáveis:"
   ]
  },
  {
   "cell_type": "code",
   "execution_count": 4,
   "id": "0fd1833f",
   "metadata": {},
   "outputs": [
    {
     "name": "stdout",
     "output_type": "stream",
     "text": [
      "1500\n"
     ]
    }
   ],
   "source": [
    "#exemplo:\n",
    "\n",
    "qntd_vendas = 1500\n",
    "\n",
    "print (qntd_vendas)"
   ]
  },
  {
   "cell_type": "markdown",
   "id": "2012e471",
   "metadata": {},
   "source": [
    "# - Obter informações do usuário:"
   ]
  },
  {
   "cell_type": "code",
   "execution_count": 5,
   "id": "eede29b1",
   "metadata": {},
   "outputs": [
    {
     "name": "stdout",
     "output_type": "stream",
     "text": [
      "Qual o seu nome?matheus\n",
      "Qual seu sobrenome?lima\n",
      "matheus lima\n"
     ]
    }
   ],
   "source": [
    "nome = input('Qual o seu nome? ')\n",
    "sobrenome = input ('Qual seu sobrenome? ')\n",
    "\n",
    "print(nome + ' ' + sobrenome)"
   ]
  }
 ],
 "metadata": {
  "kernelspec": {
   "display_name": "Python 3",
   "language": "python",
   "name": "python3"
  },
  "language_info": {
   "codemirror_mode": {
    "name": "ipython",
    "version": 3
   },
   "file_extension": ".py",
   "mimetype": "text/x-python",
   "name": "python",
   "nbconvert_exporter": "python",
   "pygments_lexer": "ipython3",
   "version": "3.8.8"
  }
 },
 "nbformat": 4,
 "nbformat_minor": 5
}
