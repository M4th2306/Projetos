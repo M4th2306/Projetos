{
 "cells": [
  {
   "cell_type": "code",
   "execution_count": 2,
   "id": "c41034b3",
   "metadata": {},
   "outputs": [
    {
     "name": "stdout",
     "output_type": "stream",
     "text": [
      "3\n",
      "Canal A;2000;100.00;não\n",
      "Canal B;1000;100.00;não\n",
      "Canal E;1;100.00;não\n",
      "2.00\n",
      "0.50\n"
     ]
    },
    {
     "ename": "NameError",
     "evalue": "name 'lista_de_bonificacao' is not defined",
     "output_type": "error",
     "traceback": [
      "\u001b[1;31m---------------------------------------------------------------------------\u001b[0m",
      "\u001b[1;31mNameError\u001b[0m                                 Traceback (most recent call last)",
      "\u001b[1;32m<ipython-input-2-6d3036b26b88>\u001b[0m in \u001b[0;36m<module>\u001b[1;34m\u001b[0m\n\u001b[0;32m     39\u001b[0m   \u001b[0mpremium\u001b[0m \u001b[1;33m=\u001b[0m \u001b[0mfloat\u001b[0m\u001b[1;33m(\u001b[0m\u001b[0minput\u001b[0m\u001b[1;33m(\u001b[0m\u001b[1;33m)\u001b[0m\u001b[1;33m)\u001b[0m\u001b[1;33m\u001b[0m\u001b[1;33m\u001b[0m\u001b[0m\n\u001b[0;32m     40\u001b[0m   \u001b[0mnao_premium\u001b[0m \u001b[1;33m=\u001b[0m \u001b[0mfloat\u001b[0m\u001b[1;33m(\u001b[0m\u001b[0minput\u001b[0m\u001b[1;33m(\u001b[0m\u001b[1;33m)\u001b[0m\u001b[1;33m)\u001b[0m\u001b[1;33m\u001b[0m\u001b[1;33m\u001b[0m\u001b[0m\n\u001b[1;32m---> 41\u001b[1;33m   \u001b[0mexibir_bonificacao\u001b[0m\u001b[1;33m(\u001b[0m\u001b[0mcalcular_bonificacao\u001b[0m\u001b[1;33m(\u001b[0m\u001b[0mpremium\u001b[0m\u001b[1;33m,\u001b[0m \u001b[0mnao_premium\u001b[0m\u001b[1;33m)\u001b[0m\u001b[1;33m)\u001b[0m\u001b[1;33m\u001b[0m\u001b[1;33m\u001b[0m\u001b[0m\n\u001b[0m",
      "\u001b[1;32m<ipython-input-2-6d3036b26b88>\u001b[0m in \u001b[0;36mcalcular_bonificacao\u001b[1;34m(premium, nao_premium)\u001b[0m\n\u001b[0;32m     21\u001b[0m \u001b[1;33m\u001b[0m\u001b[0m\n\u001b[0;32m     22\u001b[0m     \u001b[0mlista_bonificacao\u001b[0m\u001b[1;33m.\u001b[0m\u001b[0mappend\u001b[0m\u001b[1;33m(\u001b[0m\u001b[1;33m[\u001b[0m\u001b[0mnome\u001b[0m\u001b[1;33m,\u001b[0m \u001b[0mvalor_da_monetizacao\u001b[0m\u001b[1;33m]\u001b[0m\u001b[1;33m)\u001b[0m\u001b[1;33m\u001b[0m\u001b[1;33m\u001b[0m\u001b[0m\n\u001b[1;32m---> 23\u001b[1;33m   \u001b[1;32mreturn\u001b[0m \u001b[0mlista_de_bonificacao\u001b[0m\u001b[1;33m\u001b[0m\u001b[1;33m\u001b[0m\u001b[0m\n\u001b[0m\u001b[0;32m     24\u001b[0m \u001b[1;33m\u001b[0m\u001b[0m\n\u001b[0;32m     25\u001b[0m \u001b[1;32mdef\u001b[0m \u001b[0mexibir_bonificacao\u001b[0m\u001b[1;33m(\u001b[0m\u001b[0mbonus\u001b[0m\u001b[1;33m)\u001b[0m\u001b[1;33m:\u001b[0m\u001b[1;33m\u001b[0m\u001b[1;33m\u001b[0m\u001b[0m\n",
      "\u001b[1;31mNameError\u001b[0m: name 'lista_de_bonificacao' is not defined"
     ]
    }
   ],
   "source": [
    "def dados_canal(lista):\n",
    "  for _ in range(lista):\n",
    "    nome,inscritos,monetizacao,sepremium = input().split(';')\n",
    "    inscritos = int(inscritos)\n",
    "    monetizacao = float(monetizacao)\n",
    "    sepremium = sepremium == 'sim'\n",
    "    canais.append([nome, inscritos, monetizacao, sepremium])\n",
    "\n",
    "def calcular_bonificacao(premium, nao_premium):\n",
    "  lista_bonificacao = []\n",
    "\n",
    "  for canal in canais:\n",
    "    nome = canal[0]\n",
    "    inscrito = canal[1]\n",
    "    valor_da_monetizacao = canal[2]\n",
    "    sepremium = canal[3]\n",
    "\n",
    "    if (sepremium):\n",
    "      valor_da_monetizacao += inscrito // 1000 * premium\n",
    "    else:\n",
    "      valor_da_monetizacao += inscrito // 1000 * nao_premium\n",
    "    \n",
    "    lista_bonificacao.append([nome, valor_da_monetizacao])\n",
    "  return lista_de_bonificacao\n",
    "\n",
    "def exibir_bonificacao(bonus):\n",
    "  print('-----')\n",
    "  print('BÔNUS')\n",
    "  print('-----')\n",
    "  for bonificacao in bonus:\n",
    "    nome = bonificacao[0]\n",
    "    valor = bonificacao[1]\n",
    "    print(f'{nome}: R$ {valor:.2f}')\n",
    "\n",
    "    \n",
    "canais = []\n",
    "qntd_canais = int(input())\n",
    "if (1 <= qntd_canais <= 200):\n",
    "  dados_canal(qntd_canais)\n",
    "  premium = float(input())\n",
    "  nao_premium = float(input())\n",
    "  exibir_bonificacao(calcular_bonificacao(premium, nao_premium))"
   ]
  },
  {
   "cell_type": "code",
   "execution_count": 3,
   "id": "ed2fa1e9",
   "metadata": {},
   "outputs": [
    {
     "name": "stdout",
     "output_type": "stream",
     "text": [
      "3\n",
      "Canal A;2000;100.00;não\n",
      "Canal B;1000;100.00;não\n",
      "Canal E;1;100.00;não\n",
      "2.00\n",
      "0.50\n",
      "-----\n",
      "BÔNUS\n",
      "-----\n",
      "Canal A: R$ 101.00\n",
      "Canal B: R$ 100.50\n",
      "Canal E: R$ 100.00\n"
     ]
    }
   ],
   "source": [
    "def obter_dados_canal(lista):\n",
    "  for _ in range(lista):\n",
    "    # Capturando informações do canal\n",
    "    nome,inscritos,monetizacao,ehpremium = input().split(';')\n",
    "\n",
    "    # Convertendo tipo de dados das informações\n",
    "    inscritos = int(inscritos)\n",
    "    monetizacao = float(monetizacao)\n",
    "    ehpremium = ehpremium == 'sim'\n",
    "\n",
    "    # Adicionando canal na lista de canais\n",
    "    canais.append([nome, inscritos, monetizacao, ehpremium])\n",
    "\n",
    "def calcular_bonificacao(valor_premium, valor_nao_premium):\n",
    "  lista_de_bonificacao = []\n",
    "\n",
    "  for canal in canais:\n",
    "    nome = canal[0]\n",
    "    incrito = canal[1]\n",
    "    valor_da_monetizacao = canal[2]\n",
    "    ehpremium = canal[3]\n",
    "\n",
    "    if (ehpremium):\n",
    "      valor_da_monetizacao += incrito // 1000 * valor_premium\n",
    "    else:\n",
    "      valor_da_monetizacao += incrito // 1000 * valor_nao_premium\n",
    "    \n",
    "    lista_de_bonificacao.append([nome, valor_da_monetizacao])\n",
    "\n",
    "  return lista_de_bonificacao\n",
    "\n",
    "def exibir_bonificacao(bonus):\n",
    "  print('-----')\n",
    "  print('BÔNUS')\n",
    "  print('-----')\n",
    "\n",
    "  for bonificacao in bonus:\n",
    "\n",
    "    nome = bonificacao[0]\n",
    "    valor = bonificacao[1]\n",
    "    print(f'{nome}: R$ {valor:.2f}')\n",
    "\n",
    "canais = []\n",
    "\n",
    "# ENTRADAS\n",
    "quantidade_de_canais = int(input())\n",
    "\n",
    "if (1 <= quantidade_de_canais <= 200):\n",
    "  obter_dados_canal(quantidade_de_canais)\n",
    "  \n",
    "  valor_premium = float(input())\n",
    "  valor_nao_premium = float(input())\n",
    "\n",
    "  exibir_bonificacao(calcular_bonificacao(valor_premium, valor_nao_premium))"
   ]
  }
 ],
 "metadata": {
  "kernelspec": {
   "display_name": "Python 3",
   "language": "python",
   "name": "python3"
  },
  "language_info": {
   "codemirror_mode": {
    "name": "ipython",
    "version": 3
   },
   "file_extension": ".py",
   "mimetype": "text/x-python",
   "name": "python",
   "nbconvert_exporter": "python",
   "pygments_lexer": "ipython3",
   "version": "3.8.8"
  }
 },
 "nbformat": 4,
 "nbformat_minor": 5
}
