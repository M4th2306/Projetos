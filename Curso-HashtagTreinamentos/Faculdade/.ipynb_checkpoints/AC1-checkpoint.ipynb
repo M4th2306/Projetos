{
 "cells": [
  {
   "cell_type": "code",
   "execution_count": null,
   "id": "58cacaab",
   "metadata": {},
   "outputs": [],
   "source": [
    "######### Exercicio 1\n",
    "preco_merc= float(input())\n",
    "qntd= int(input())\n",
    "preco_compra= preco_merc * qntd\n",
    "desconto= 10 + qntd\n",
    "valor_final= preco_compra * desconto/100\n",
    "preco_final= preco_compra - valor_final\n",
    "print(f'{preco_compra:.2f}')\n",
    "print(f'{preco_final:.2f}')\n"
   ]
  },
  {
   "cell_type": "code",
   "execution_count": null,
   "id": "fa1381b4",
   "metadata": {},
   "outputs": [],
   "source": [
    "######### Exercicio 2\n",
    "empr1= int(input())\n",
    "empr2= int(input())\n",
    "casa = int(input())\n",
    "print(f'{empr1+empr2+casa} minutos')"
   ]
  },
  {
   "cell_type": "code",
   "execution_count": null,
   "id": "1782a47a",
   "metadata": {},
   "outputs": [],
   "source": [
    "######### Exercicio 3\n",
    "inch= float(input())\n",
    "cem= inch * 2.54\n",
    "print(f'{cem:.3f}')\n"
   ]
  },
  {
   "cell_type": "code",
   "execution_count": null,
   "id": "cba5cfaa",
   "metadata": {},
   "outputs": [],
   "source": [
    "######### Exercicio 4\n",
    "numr=  int(input())\n",
    "if numr >= 2:\n",
    "    if numr%2 == 0:\n",
    "        print(f'{numr-1} {numr+2}')\n",
    "    elif numr%2 != 0:\n",
    "        print(f'{numr-2} {numr+1}')\n",
    "else:\n",
    "    print('Digite um numero igual ou maior que 2')"
   ]
  },
  {
   "cell_type": "code",
   "execution_count": 4,
   "id": "b93dda05",
   "metadata": {
    "scrolled": false
   },
   "outputs": [
    {
     "name": "stdout",
     "output_type": "stream",
     "text": [
      "digite nota trabalho: 5\n",
      "digite nota prova: 7\n",
      "aprovado\n"
     ]
    }
   ],
   "source": [
    "######### Exercicio 5\n",
    "trab= float(input('digite nota trabalho: '))\n",
    "prova= float(input('digite nota prova: '))\n",
    "media= (prova+trab) / 2\n",
    "if media >= 6 and (prova >= 6 or prova >= 2):\n",
    "        print('aprovado')\n",
    "elif prova < 6 and trab >= 6 or trab >= 2:\n",
    "        print('talvez com a sub')\n",
    "else:\n",
    "    print('reprovado')"
   ]
  },
  {
   "cell_type": "code",
   "execution_count": 1,
   "id": "d1b05ad6",
   "metadata": {},
   "outputs": [
    {
     "ename": "SyntaxError",
     "evalue": "cannot assign to literal (<ipython-input-1-16e239b17e23>, line 5)",
     "output_type": "error",
     "traceback": [
      "\u001b[1;36m  File \u001b[1;32m\"<ipython-input-1-16e239b17e23>\"\u001b[1;36m, line \u001b[1;32m5\u001b[0m\n\u001b[1;33m    'domingo'= 1\u001b[0m\n\u001b[1;37m    ^\u001b[0m\n\u001b[1;31mSyntaxError\u001b[0m\u001b[1;31m:\u001b[0m cannot assign to literal\n"
     ]
    }
   ],
   "source": [
    "######### Exercicio 6\n",
    "dia_sem= input()\n",
    "prazo= int(input())\n",
    "if dia_sem == 'domingo':\n",
    "    if prazo == 0:\n",
    "        print ('chega hoje!')\n",
    "    elif prazo == 1:\n",
    "        print ('sera entregue segunda')\n",
    "    elif prazo == 2:\n",
    "        print ('sera entregue terca')\n",
    "    elif prazo == 3:\n",
    "        print ('sera entregue quarta')\n",
    "    elif prazo == 4:\n",
    "        print ('sera entregue quinta')\n",
    "    elif prazo == 5:\n",
    "        print ('sera entregue sexta')\n",
    "    elif prazo == 6:\n",
    "        print ('sera entregue sabado')\n",
    "if dia_sem == 'segunda':\n",
    "    if prazo == 0:\n",
    "        print ('chega hoje!')\n",
    "    elif prazo == 1:\n",
    "        print ('sera entregue terca')\n",
    "    elif prazo == 2:\n",
    "        print ('sera entregue quarta')\n",
    "    elif prazo == 3:\n",
    "        print ('sera entregue quinta')\n",
    "    elif prazo == 4:\n",
    "        print ('sera entregue sexta')\n",
    "    elif prazo == 5:\n",
    "        print ('sera entregue sabado')\n",
    "    elif prazo == 6:\n",
    "        print ('sera entregue domingo')\n",
    "if dia_sem == 'terca':\n",
    "    if prazo == 0:\n",
    "        print ('chega hoje!')\n",
    "    elif prazo == 1:\n",
    "        print ('sera entregue quarta')\n",
    "    elif prazo == 2:\n",
    "        print ('sera entregue quinta')\n",
    "    elif prazo == 3:\n",
    "        print ('sera entregue sexta')\n",
    "    elif prazo == 4:\n",
    "        print ('sera entregue sabado')\n",
    "    elif prazo == 5:\n",
    "        print ('sera entregue domingo')\n",
    "    elif prazo == 6:\n",
    "        print ('sera entregue segunda')\n",
    "if dia_sem == 'quarta':\n",
    "    if prazo == 0:\n",
    "        print ('chega hoje!')\n",
    "    elif prazo == 1:\n",
    "        print ('sera entregue quinta')\n",
    "    elif prazo == 2:\n",
    "        print ('sera entregue sexta')\n",
    "    elif prazo == 3:\n",
    "        print ('sera entregue sabado')\n",
    "    elif prazo == 4:\n",
    "        print ('sera entregue domingo')\n",
    "    elif prazo == 5:\n",
    "        print ('sera entregue segunda')\n",
    "    elif prazo == 6:\n",
    "        print ('sera entregue terca')\n",
    "if dia_sem == 'quinta':\n",
    "    if prazo == 0:\n",
    "        print ('chega hoje!')\n",
    "    elif prazo == 1:\n",
    "        print ('sera entregue sexta')\n",
    "    elif prazo == 2:\n",
    "        print ('sera entregue sabado')\n",
    "    elif prazo == 3:\n",
    "        print ('sera entregue domingo')\n",
    "    elif prazo == 4:\n",
    "        print ('sera entregue segunda')\n",
    "    elif prazo == 5:\n",
    "        print ('sera entregue terca')\n",
    "    elif prazo == 6:\n",
    "        print ('sera entregue quarta')\n",
    "if dia_sem == 'sexta':\n",
    "    if prazo == 0:\n",
    "        print ('chega hoje!')\n",
    "    elif prazo == 1:\n",
    "        print ('sera entregue sabado')\n",
    "    elif prazo == 2:\n",
    "        print ('sera entregue domingo')\n",
    "    elif prazo == 3:\n",
    "        print ('sera entregue segunda')\n",
    "    elif prazo == 4:\n",
    "        print ('sera entregue terca')\n",
    "    elif prazo == 5:\n",
    "        print ('sera entregue quarta')\n",
    "    elif prazo == 6:\n",
    "        print ('sera entregue quinta')\n",
    "if dia_sem == 'sabado':\n",
    "    if prazo == 0:\n",
    "        print ('chega hoje!')\n",
    "    elif prazo == 1:\n",
    "        print ('sera entregue domingo')\n",
    "    elif prazo == 2:\n",
    "        print ('sera entregue segunda')\n",
    "    elif prazo == 3:\n",
    "        print ('sera entregue terca')\n",
    "    elif prazo == 4:\n",
    "        print ('sera entregue quarta')\n",
    "    elif prazo == 5:\n",
    "        print ('sera entregue quinta')\n",
    "    elif prazo == 6:\n",
    "        print ('sera entregue sexta')\n",
    "    "
   ]
  },
  {
   "cell_type": "code",
   "execution_count": null,
   "id": "e76c182e",
   "metadata": {},
   "outputs": [],
   "source": []
  }
 ],
 "metadata": {
  "kernelspec": {
   "display_name": "Python 3",
   "language": "python",
   "name": "python3"
  },
  "language_info": {
   "codemirror_mode": {
    "name": "ipython",
    "version": 3
   },
   "file_extension": ".py",
   "mimetype": "text/x-python",
   "name": "python",
   "nbconvert_exporter": "python",
   "pygments_lexer": "ipython3",
   "version": "3.8.8"
  }
 },
 "nbformat": 4,
 "nbformat_minor": 5
}
