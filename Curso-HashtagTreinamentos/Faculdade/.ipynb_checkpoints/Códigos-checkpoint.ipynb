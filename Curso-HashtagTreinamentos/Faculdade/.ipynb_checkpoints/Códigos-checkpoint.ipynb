{
 "cells": [
  {
   "cell_type": "code",
   "execution_count": 20,
   "id": "924b9cec",
   "metadata": {},
   "outputs": [
    {
     "name": "stdout",
     "output_type": "stream",
     "text": [
      "300\n",
      "50\n",
      "pagamento: 1\n",
      "antes = 300\n",
      "depois = 250\n",
      "-----\n",
      "pagamento: 2\n",
      "antes = 250\n",
      "depois = 200\n",
      "-----\n",
      "pagamento: 3\n",
      "antes = 200\n",
      "depois = 150\n",
      "-----\n",
      "pagamento: 4\n",
      "antes = 150\n",
      "depois = 100\n",
      "-----\n",
      "pagamento: 5\n",
      "antes = 100\n",
      "depois = 50\n",
      "-----\n",
      "pagamento: 6\n",
      "antes = 50\n",
      "depois = 0\n",
      "-----\n"
     ]
    }
   ],
   "source": [
    "total=int(input())\n",
    "pagar=int(input())\n",
    "pagamentos=total//pagar   \n",
    "\n",
    "for i in range(pagamentos):\n",
    "    print(f'pagamento: {i+1}\\nantes = {total}\\ndepois = {total-pagar}\\n-----')\n",
    "    total -= pagar\n",
    "    \n",
    "        \n",
    "    "
   ]
  },
  {
   "cell_type": "code",
   "execution_count": null,
   "id": "c58d4593",
   "metadata": {},
   "outputs": [],
   "source": []
  }
 ],
 "metadata": {
  "kernelspec": {
   "display_name": "Python 3",
   "language": "python",
   "name": "python3"
  },
  "language_info": {
   "codemirror_mode": {
    "name": "ipython",
    "version": 3
   },
   "file_extension": ".py",
   "mimetype": "text/x-python",
   "name": "python",
   "nbconvert_exporter": "python",
   "pygments_lexer": "ipython3",
   "version": "3.8.8"
  }
 },
 "nbformat": 4,
 "nbformat_minor": 5
}
