{
 "cells": [
  {
   "cell_type": "markdown",
   "metadata": {},
   "source": [
    "# Exercícios\n",
    "\n",
    "São exercícios bem parecidos com os que fizemos com listas. Mas na tupla, podemos não só trabalhar com índices, mas fazer o \"unpacking\" das tuplas, o que pode facilitar nossos códigos.\n",
    "\n",
    "## 1. Análise de Vendas\n",
    "\n",
    "Nesse exercício vamos fazer uma \"análise simples\" de atingimento de Meta.\n",
    "\n",
    "Temos uma lista com os vendedores e os valores de vendas e queremos identificar (printar) quais os vendedores que bateram a meta e qual foi o valor que eles venderam."
   ]
  },
  {
   "cell_type": "code",
   "execution_count": null,
   "metadata": {},
   "outputs": [],
   "source": [
    "meta = 10000\n",
    "vendas = [\n",
    "    ('João', 15000),\n",
    "    ('Julia', 27000),\n",
    "    ('Marcus', 9900),\n",
    "    ('Maria', 3750),\n",
    "    ('Ana', 10300),\n",
    "    ('Alon', 7870),\n",
    "]\n",
    "vendedor=''\n",
    "venda = 0\n",
    "\n",
    "for i in vendas:\n",
    "    vendedor, venda = i\n",
    "    if venda > meta:\n",
    "        print(f'O funcionario {vendedor} bateu a meta com valor de R${venda}')"
   ]
  },
  {
   "cell_type": "markdown",
   "metadata": {},
   "source": [
    "## 2. Comparação com Ano Anterior\n",
    "\n",
    "Digamos que você está analisando as vendas de produtos de um ecommerce e quer identificar quais produtos tiveram no ano de 2020 mais vendas do que no ano de 2019, para reportar isso para a diretoria.\n",
    "\n",
    "Sua resposta pode ser um print de cada produto, qual foi a venda de 2019, a venda de 2020 e o % de crescimento de 2020 para 2019.\n",
    "\n",
    "Lembrando, para calcular o % de crescimento de um produto de um ano para o outro, podemos fazer: (vendas_produto2020/vendas_produto2019 - 1)\n",
    "\n",
    "A lógica da tupla é: (produto, vendas2019, vendas2020)"
   ]
  },
  {
   "cell_type": "code",
   "execution_count": 34,
   "metadata": {},
   "outputs": [
    {
     "name": "stdout",
     "output_type": "stream",
     "text": [
      "O produto: IPHONE  | teve mais vendas de 1 ano para o outro, com a taxa de crescimento de 70.5% \n",
      "\n",
      "O produto: TV  | teve mais vendas de 1 ano para o outro, com a taxa de crescimento de 94.3% \n",
      "\n",
      "O produto: MÁQUINA DE CAFÉ  | teve mais vendas de 1 ano para o outro, com a taxa de crescimento de 20.7% \n",
      "\n",
      "O produto: NOTEBOOK DELL  | teve mais vendas de 1 ano para o outro, com a taxa de crescimento de 64.4% \n",
      "\n",
      "O produto: NOTEBOOK HP  | teve mais vendas de 1 ano para o outro, com a taxa de crescimento de 248.8% \n",
      "\n",
      "O produto: MICROSOFT SURFACE  | teve mais vendas de 1 ano para o outro, com a taxa de crescimento de 52.1% \n",
      "\n",
      "O produto: WEBCAM  | teve mais vendas de 1 ano para o outro, com a taxa de crescimento de 24.5% \n",
      "\n",
      "O produto: CAIXA DE SOM  | teve mais vendas de 1 ano para o outro, com a taxa de crescimento de 48.1% \n",
      "\n",
      "O produto: MICROFONE  | teve mais vendas de 1 ano para o outro, com a taxa de crescimento de 96.3% \n",
      "\n",
      "O produto: CÂMERA CANON  | teve mais vendas de 1 ano para o outro, com a taxa de crescimento de 68.2% \n",
      "\n"
     ]
    }
   ],
   "source": [
    "\n",
    "vendas_produtos = [('iphone', 558147, 951642),\n",
    "                   ('galaxy', 712350, 244295), \n",
    "                   ('ipad', 573823, 26964), \n",
    "                   ('tv', 405252, 787604), \n",
    "                   ('máquina de café', 718654, 867660), \n",
    "                   ('kindle', 531580, 78830), \n",
    "                   ('geladeira', 973139, 710331), \n",
    "                   ('adega', 892292, 646016), \n",
    "                   ('notebook dell', 422760, 694913), \n",
    "                   ('notebook hp', 154753, 539704), \n",
    "                   ('notebook asus', 887061, 324831),\n",
    "                   ('microsoft surface', 438508, 667179), \n",
    "                   ('webcam', 237467, 295633), \n",
    "                   ('caixa de som', 489705, 725316), \n",
    "                   ('microfone', 328311, 644622), \n",
    "                   ('câmera canon', 591120, 994303),\n",
    "]\n",
    "\n",
    "produto=''\n",
    "vendas2019=0\n",
    "vendas2020=0\n",
    "\n",
    "for i in vendas_produtos:\n",
    "    produto, vendas2019, vendas2020 = i\n",
    "    if vendas2020 > vendas2019:\n",
    "        crescimento=vendas2020/vendas2019 - 1\n",
    "        print('O produto: {}  | teve mais vendas de 1 ano para o outro, com a taxa de crescimento de {:.1%} \\n'.format(produto.upper(), crescimento))"
   ]
  }
 ],
 "metadata": {
  "kernelspec": {
   "display_name": "Python 3",
   "language": "python",
   "name": "python3"
  },
  "language_info": {
   "codemirror_mode": {
    "name": "ipython",
    "version": 3
   },
   "file_extension": ".py",
   "mimetype": "text/x-python",
   "name": "python",
   "nbconvert_exporter": "python",
   "pygments_lexer": "ipython3",
   "version": "3.8.8"
  }
 },
 "nbformat": 4,
 "nbformat_minor": 4
}
